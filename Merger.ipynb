{
 "cells": [
  {
   "cell_type": "code",
   "execution_count": 10,
   "id": "light-oxide",
   "metadata": {},
   "outputs": [
    {
     "name": "stdout",
     "output_type": "stream",
     "text": [
      "{'images': [], 'audio': [], 'histograms': [], 'scalars': [], 'distributions': [], 'tensors': [], 'graph': False, 'meta_graph': False, 'run_metadata': []}\n",
      "defaultdict(<class 'list'>, {})\n"
     ]
    }
   ],
   "source": [
    "import os\n",
    "from collections import defaultdict\n",
    "\n",
    "import numpy as np\n",
    "import tensorflow as tf\n",
    "from tensorboard.backend.event_processing.event_accumulator import EventAccumulator\n",
    "\n",
    "\n",
    "def tabulate_events(dpath):\n",
    "\n",
    "    summary_iterators = [EventAccumulator(os.path.join(dpath, dname)).Reload() for dname in os.listdir(dpath)]\n",
    "\n",
    "    tags = summary_iterators[0].Tags()['scalars']\n",
    "\n",
    "    print(summary_iterators[0].Tags())\n",
    "    \n",
    "    for it in summary_iterators:\n",
    "        assert it.Tags()['scalars'] == tags\n",
    "\n",
    "    out = defaultdict(list)\n",
    "\n",
    "    for tag in tags:\n",
    "        for events in zip(*[acc.Scalars(tag) for acc in summary_iterators]):\n",
    "            assert len(set(e.step for e in events)) == 1\n",
    "\n",
    "            out[tag].append([e.value for e in events])\n",
    "\n",
    "    return out\n",
    "\n",
    "\n",
    "def write_combined_events(dpath, d_combined, dname='combined'):\n",
    "\n",
    "    fpath = os.path.join(dpath, dname)\n",
    "    writer = tf.summary.create_file_writer(fpath)\n",
    "\n",
    "    tags, values = zip(*d_combined.items())\n",
    "\n",
    "    timestep_mean = np.array(values).mean(axis=-1)\n",
    "\n",
    "    for tag, means in zip(tags, timestep_mean):\n",
    "        for i, mean in enumerate(means):\n",
    "            summary = tf.Summary(value=[tf.Summary.Value(tag=tag, simple_value=mean)])\n",
    "            writer.add_summary(summary, global_step=i)\n",
    "\n",
    "        writer.flush()\n",
    "\n",
    "dpath = 'C:/Users/Tanel/Desktop/Tanel/Repositories/Voll-AI/results'\n",
    "\n",
    "d = tabulate_events(dpath)\n",
    "\n",
    "print(d)\n",
    "\n",
    "# write_combined_events(dpath, d)"
   ]
  }
 ],
 "metadata": {
  "kernelspec": {
   "display_name": "Python 3",
   "language": "python",
   "name": "python3"
  },
  "language_info": {
   "codemirror_mode": {
    "name": "ipython",
    "version": 3
   },
   "file_extension": ".py",
   "mimetype": "text/x-python",
   "name": "python",
   "nbconvert_exporter": "python",
   "pygments_lexer": "ipython3",
   "version": "3.8.8"
  }
 },
 "nbformat": 4,
 "nbformat_minor": 5
}
